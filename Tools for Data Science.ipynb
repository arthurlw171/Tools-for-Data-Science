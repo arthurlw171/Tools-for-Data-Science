{
  "metadata": {
    "kernelspec": {
      "name": "python",
      "display_name": "Python (Pyodide)",
      "language": "python"
    },
    "language_info": {
      "codemirror_mode": {
        "name": "python",
        "version": 3
      },
      "file_extension": ".py",
      "mimetype": "text/x-python",
      "name": "python",
      "nbconvert_exporter": "python",
      "pygments_lexer": "ipython3",
      "version": "3.8"
    }
  },
  "nbformat_minor": 5,
  "nbformat": 4,
  "cells": [
    {
      "id": "ba791ca9-3c35-4986-a0a7-e9b4b1f55085",
      "cell_type": "markdown",
      "source": "Tools for Data Science",
      "metadata": {}
    },
    {
      "id": "b3627c66-7484-41e4-b292-25152987ca54",
      "cell_type": "markdown",
      "source": "Introduction: This is my graded lab",
      "metadata": {}
    },
    {
      "id": "a924d156-a1bc-4824-8df7-c5d0ec2c2e81",
      "cell_type": "markdown",
      "source": "Data Science Languages:\nPython, R, SQL, Julia, Scala",
      "metadata": {}
    },
    {
      "id": "4807a760-4d01-493c-ad67-953c4b47c30b",
      "cell_type": "markdown",
      "source": "Data Science Libraries:\nNumPy, pandas, Matplotlib, seaborn, plotly, scikit-learn, TensorFlow",
      "metadata": {}
    },
    {
      "id": "a436f7c6-ad66-4b82-bd47-f8a13963fc85",
      "cell_type": "markdown",
      "source": "| **Category**              | **Tool/Platform**               | **Purpose / Use Case**                                           |\n|---------------------------|----------------------------------|-------------------------------------------------------------------|\n| Programming Languages     | Python, R, SQL, Julia, Scala     | Programming, statistics, data wrangling, modeling                 |\n| Data Manipulation         | pandas (Python), dplyr (R)       | Cleaning, transforming, summarizing structured data              |\n| Numerical Computing       | NumPy, data.table                | Matrix operations, fast numerical processing                      |\n| Data Visualization        | Matplotlib, Seaborn, ggplot2     | Create plots, charts, and visual data stories                     |\n| Machine Learning          | scikit-learn, caret, XGBoost     | Training models: classification, regression, clustering           |\n| Deep Learning             | TensorFlow, PyTorch, Keras       | Neural networks, image/text processing                            |\n| Database Querying         | SQL, PostgreSQL, MySQL           | Structured data storage and retrieval                             |\n| Data Storage              | HDFS, MongoDB, Cassandra         | Storing large or unstructured datasets                            |\n| Model Deployment          | Flask, FastAPI, Docker           | APIs and containerization for production                          |\n| Version Control           | Git, GitHub, GitLab              | Source code tracking and collaboration                            |\n| IDE / Notebooks           | Jupyter Notebook, RStudio        | Writing and visualizing code interactively                        |\n| BI Tools                  | Tableau, Power BI, Looker        | Dashboards and business intelligence                              |\n",
      "metadata": {}
    },
    {
      "id": "f2c1cb5a-9531-4472-8ac0-893b0fee2f7f",
      "cell_type": "markdown",
      "source": "arithmetic expression examples:\n6 * (3 + 4): Evaluates to 42.\n(3 + 4) * (6 - 2): Evaluates to 28.\n2^3: Evaluates to 8.",
      "metadata": {}
    },
    {
      "id": "1bbb8752-d849-405c-98cf-e6806cdef7d7",
      "cell_type": "code",
      "source": "x = 2 * 2\ny = 2 + 2",
      "metadata": {
        "trusted": true
      },
      "outputs": [],
      "execution_count": 1
    },
    {
      "id": "9445c262-dff6-4ea6-9ddb-35067b11f97d",
      "cell_type": "code",
      "source": "minutestohours = 300 // 60",
      "metadata": {
        "trusted": true
      },
      "outputs": [],
      "execution_count": null
    },
    {
      "id": "d785a1e7-0f71-4c45-a5bb-8e34c9f32829",
      "cell_type": "markdown",
      "source": "Objectives:\nI want to learn how to conduct data analysis and work on my own datasets",
      "metadata": {}
    },
    {
      "id": "1bbbb491-54cf-474f-8bea-f3110eb87969",
      "cell_type": "markdown",
      "source": "author name:\narthurlw",
      "metadata": {}
    }
  ]
}